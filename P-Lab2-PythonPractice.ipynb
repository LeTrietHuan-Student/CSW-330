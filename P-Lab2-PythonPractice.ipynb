{
 "cells": [
  {
   "cell_type": "markdown",
   "id": "4e5f8ede",
   "metadata": {},
   "source": [
    "# P-Lab 2: Python Practice"
   ]
  },
  {
   "cell_type": "markdown",
   "id": "f85dc269",
   "metadata": {},
   "source": [
    "### Exercise 1: Representing Maze States\n",
    "In a grid-based maze, each cell can be represented by its coordinate and a descriptive label, such as \"wall\", \"food\", or \"path\". You must determine how to represent individual cells and collections of such cells using Python data structures.\n",
    "\n",
    "**Task:** Define a coordinate representation for a single cell, create a data record describing the cell, and organize multiple cells into a collection suitable for later search operations.\n",
    "\n",
    "**Hints:**\n",
    "- Tuple: An immutable ordered collection used to store coordinates. Tuples cannot be changed after creation, ensuring data stability when used as keys in dictionaries or elements in sets.\n",
    "- Dictionary: A data mapping structure that associates keys with values. Dictionaries are ideal for storing named properties such as \"position\" and \"type\".\n",
    "- List vs. Dictionary for Collections: A list preserves order and is convenient for iteration, while a dictionary allows constant-time lookup using coordinates as keys."
   ]
  },
  {
   "cell_type": "code",
   "execution_count": 3,
   "id": "62a884f6",
   "metadata": {},
   "outputs": [
    {
     "name": "stdout",
     "output_type": "stream",
     "text": [
      "[{'position': (1, 2), 'value': True}]\n"
     ]
    }
   ],
   "source": [
    "# Define coordinate, cell, and collection structures\n",
    "pos = (1, 2)\n",
    "cell = {\"position\": pos, \"value\": True}\n",
    "cells_list = [cell]\n",
    "cells_by_pos = {pos: cell}\n",
    "print(cells_list)"
   ]
  },
  {
   "cell_type": "markdown",
   "id": "badda5cc",
   "metadata": {},
   "source": [
    "### Exercise 2. Tracking Visited States\n",
    "During search, it is necessary to maintain a record of previously visited states to prevent revisiting the same positions, which could lead to infinite loops or redundant computation.\n",
    "\n",
    "**Task:** Implement a data structure that records explored positions and allows efficient membership checking.\n",
    "\n",
    "**Hints:**\n",
    "- Set: A Python data structure that stores unordered, unique, and hashable elements. Sets offer constant-time membership checking using the `in` operator.\n",
    "- List Limitation: Lists permit duplicates and require linear-time membership checking, which becomes inefficient for large state spaces."
   ]
  },
  {
   "cell_type": "code",
   "execution_count": 6,
   "id": "3afdcf41",
   "metadata": {},
   "outputs": [
    {
     "name": "stdout",
     "output_type": "stream",
     "text": [
      "True\n",
      "True\n",
      "False\n"
     ]
    }
   ],
   "source": [
    "explored = {(1,1), (2,2), (3,3), (4,4)}\n",
    "explored.add((1, 1))\n",
    "print((1, 1) in explored)\n",
    "print((2, 2) in explored)\n",
    "print((5,5) in explored)"
   ]
  },
  {
   "cell_type": "markdown",
   "id": "6541240a",
   "metadata": {},
   "source": [
    "### Exercise 3. Expanding Neighbors\n",
    "Given a current coordinate, Pac-Man can attempt to move north, south, east, or west, provided no wall blocks the destination cell. The function should identify all valid successors of a given state.\n",
    "\n",
    "**Task:** Implement a function `get_successors(state, walls)` that returns a list of valid `(action, successor_state)` pairs.\n",
    "\n",
    "**Hints:**\n",
    "- Dictionary of Moves: Mapping actions to coordinate offsets increases code clarity and prevents repetitive conditionals.\n",
    "- Iteration with `items()`: Facilitates simultaneous access to keys and values.\n",
    "- Set Membership Check: Efficiently ensures that the next state is not blocked by a wall."
   ]
  },
  {
   "cell_type": "code",
   "execution_count": null,
   "id": "7f677263",
   "metadata": {},
   "outputs": [],
   "source": [
    "def get_successors(state, walls):\n",
    "    x, y = state\n",
    "    moves = {\n",
    "        \"North\": (x, y + 1),\n",
    "        \"South\": (x, y - 1),\n",
    "        \"East\":  (x + 1, y),\n",
    "        \"West\":  (x - 1, y),\n",
    "    }\n",
    "    \n",
    "    successors = []\n",
    "    # Append only valid moves\n",
    "\n",
    "    return successors"
   ]
  },
  {
   "cell_type": "markdown",
   "id": "f23aa749",
   "metadata": {},
   "source": [
    "### Exercise 4. Managing the Frontier\n",
    "The frontier represents the set of states that have been generated but not yet explored. Its structure determines the behavior of the search algorithm. For example, a stack supports DFS, a queue supports BFS, and a priority queue supports informed searches.\n",
    "\n",
    "**Task:** Simulate three types of frontiers using built-in Python data structures.\n",
    "\n",
    "**Hints:**\n",
    "- Stack: Implemented with a list using append() and pop(), it follows a Last-In-First-Out (LIFO) order.\n",
    "- Queue: Implemented with collections.deque using append() and popleft(), it follows a First-In-First-Out (FIFO) order.\n",
    "- Priority Queue: Implemented with the heapq module, it retrieves the element with the smallest priority value first."
   ]
  },
  {
   "cell_type": "code",
   "execution_count": null,
   "id": "f57e5658",
   "metadata": {},
   "outputs": [],
   "source": [
    "from collections import deque\n",
    "import heapq\n",
    "\n",
    "stack = []\n",
    "queue = deque()\n",
    "frontier = []\n",
    "\n",
    "# Implement push and pop operations for each\n"
   ]
  },
  {
   "cell_type": "markdown",
   "id": "be9ef770",
   "metadata": {},
   "source": [
    "### Exercise 5. Packaging a Node\n",
    "Each node in a search tree contains a state, the list of actions taken to reach that state, and the total cost so far. Constructing and updating nodes efficiently is essential for algorithmic clarity.\n",
    "\n",
    "**Task:** Define a function that produces a new node tuple (next_state, new_actions, new_cost) when a move is applied.\n",
    "\n",
    "**Hints:**\n",
    "- Tuple: Suitable for nodes because it is lightweight and immutable.\n",
    "- List Concatenation: The actions + [action] operation creates a new list, ensuring that earlier paths remain unchanged.\n",
    "- Incremental Cost Update: Add the step_cost to the current cost."
   ]
  },
  {
   "cell_type": "code",
   "execution_count": null,
   "id": "82d4e8b6",
   "metadata": {},
   "outputs": [],
   "source": [
    "def make_node(state, actions, cost, action, step_cost, next_state):\n",
    "    # Compute new_actions and new_cost\n",
    "    return ..."
   ]
  },
  {
   "cell_type": "markdown",
   "id": "e8002250",
   "metadata": {},
   "source": [
    "### Exercise 6. Goal Testing\n",
    "The algorithm must determine when the search has reached the target position, referred to as the goal state.\n",
    "\n",
    "**Task:** Implement a function is_goal(state, goal) that verifies if the two coordinates match.\n",
    "\n",
    "**Hints:**\n",
    "- Tuple Equality: Python compares tuples element by element, allowing direct equality checks for coordinate pairs.\n",
    "- Boolean Return: The function should return True or False."
   ]
  },
  {
   "cell_type": "code",
   "execution_count": null,
   "id": "9e987c41",
   "metadata": {},
   "outputs": [],
   "source": [
    "def is_goal(state, goal):\n",
    "    # Return a Boolean indicating equality\n",
    "    return ..."
   ]
  },
  {
   "cell_type": "markdown",
   "id": "ad610efd",
   "metadata": {},
   "source": [
    "### Exercise 7. Implementing a Minimal Depth-First Search\n",
    "Simulate a simple Depth-First Search in a small grid environment. The function should find a sequence of moves from a start position to a goal position while avoiding walls.\n",
    "\n",
    "**Task:** Write a function simple_search(start, goal, walls) that uses a stack-based frontier and a set of explored nodes.\n",
    "\n",
    "**Hints:**\n",
    "- Loop Structure: Continue while the frontier is not empty.\n",
    "- State Expansion: Use get_successors() to generate new states.\n",
    "- Explored Set: Prevent revisiting nodes that have already been processed."
   ]
  },
  {
   "cell_type": "code",
   "execution_count": null,
   "id": "5ea5f1a1",
   "metadata": {},
   "outputs": [],
   "source": [
    "def simple_search(start, goal, walls):\n",
    "    frontier = [(start, [])]\n",
    "    explored = set()\n",
    "    while frontier:\n",
    "        state, path = frontier.pop()\n",
    "        # Implement goal test, expansion, and exploration\n",
    "    return None"
   ]
  },
  {
   "cell_type": "markdown",
   "id": "e7e8cf8c",
   "metadata": {},
   "source": [
    "### Exercise 8. Constructing a Heuristic Function\n",
    "For heuristic-based search algorithms such as A*, a heuristic estimates the remaining distance to the goal. In a grid environment, the Manhattan distance is a common heuristic.\n",
    "\n",
    "**Task:** Implement a function manhattan_heuristic(state, goal) that returns the sum of horizontal and vertical distances between two coordinates.\n",
    "\n",
    "**Hints:**\n",
    "- Absolute Difference: The abs() function returns the magnitude of difference.\n",
    "- Heuristic Property: The Manhattan distance never overestimates the true shortest path cost, making it admissible and consistent."
   ]
  },
  {
   "cell_type": "code",
   "execution_count": null,
   "id": "d352f5c6",
   "metadata": {},
   "outputs": [],
   "source": [
    "def manhattan_heuristic(state, goal):\n",
    "    x1, y1 = state\n",
    "    x2, y2 = goal\n",
    "    # Compute the Manhattan distance\n",
    "    return ..."
   ]
  }
 ],
 "metadata": {
  "kernelspec": {
   "display_name": "data-privacy-env",
   "language": "python",
   "name": "python3"
  },
  "language_info": {
   "codemirror_mode": {
    "name": "ipython",
    "version": 3
   },
   "file_extension": ".py",
   "mimetype": "text/x-python",
   "name": "python",
   "nbconvert_exporter": "python",
   "pygments_lexer": "ipython3",
   "version": "3.12.11"
  }
 },
 "nbformat": 4,
 "nbformat_minor": 5
}
