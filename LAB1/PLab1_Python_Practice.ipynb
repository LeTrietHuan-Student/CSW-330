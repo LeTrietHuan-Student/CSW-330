{
 "cells": [
  {
   "cell_type": "markdown",
   "id": "fcecd232",
   "metadata": {},
   "source": [
    "\n",
    "# P-Lab 1: Python Practice - Programming Pac‑Man’s World\n",
    "\n",
    "**Focus:** Functions · Conditionals · Loops (`for`/`while`) · Lists · Dictionaries · Tuples  \n",
    "**Context:** All tasks are themed around a simple Pac‑Man‑style grid to prepare you for the Lab 1 - Intelligent Agent.\n",
    "\n",
    "For each exercise, read the question and complete the code in cell.\n",
    "\n",
    "---"
   ]
  },
  {
   "cell_type": "markdown",
   "id": "91de9165",
   "metadata": {},
   "source": [
    "\n",
    "## 1) Conditional Control and Decision-Making in Agent Behaviour\n",
    "\n",
    "In this task, students simulate a simplified Pac-Man agent operating in a grid-based environment.\n",
    "The agent perceives the state of its surroundings and determines an appropriate action according to predefined behavioural rules.\n",
    "\n",
    "The environment provides four perceptual variables:\n",
    "\n",
    "| Variable        | Type    | Description                                                        |\n",
    "| --------------- | ------- | ------------------------------------------------------------------ |\n",
    "| `ghost_visible` | Boolean | Indicates whether a ghost is within visual range.          |\n",
    "| `energy`        | Integer | Represents Pac-Man’s current strength level.                        |\n",
    "| `food_nearby`   | Boolean | Signals the presence of edible pellets adjacent to Pac-Man.        |\n",
    "| `fruit`         | Boolean | Denotes the appearance of a special fruit item (highest priority). |\n",
    "\n",
    "Pac-Man’s decision-making hierarchy is defined as follows:\n",
    "- If a fruit is present (fruit == True) → perform \"eat fruit\".\n",
    "- Else if a ghost is visible and energy < 30 → perform \"hide\".\n",
    "- Else if a ghost is visible and energy ≥ 30 → perform \"run\".\n",
    "- Else if no ghost is visible and food is nearby → perform \"eat\".\n",
    "- Otherwise → perform \"wander\".\n",
    "\n",
    "**Task**\n",
    "\n",
    "Write a Python program that evaluates the current environmental state and determines Pac-Man’s next action based on the rule hierarchy above.\n",
    "\n",
    "**Expected Output**\n",
    "\n",
    "```python\n",
    "Pac-Man action: run\n",
    "```"
   ]
  },
  {
   "cell_type": "code",
   "execution_count": 5,
   "id": "449707b2",
   "metadata": {},
   "outputs": [
    {
     "name": "stdout",
     "output_type": "stream",
     "text": [
      "Pac-Man action: run\n"
     ]
    }
   ],
   "source": [
    "ghost_visible = True\n",
    "energy = 45\n",
    "food_nearby = False\n",
    "fruit = False\n",
    "\n",
    "# Determine Pac-Man’s behaviour\n",
    "action = None\n",
    "\n",
    "# TODO: Implement the decision rules here\n",
    "if fruit == True:\n",
    "    action='eat fruit'\n",
    "elif ghost_visible == True:\n",
    "    if energy <30:\n",
    "        action= 'hide'\n",
    "    elif energy >=30:\n",
    "        action= 'run'\n",
    "elif ghost_visible == False and food_nearby == True:\n",
    "    action= 'eat'\n",
    "else:\n",
    "    action='wander'\n",
    "\n",
    "\n",
    "print(\"Pac-Man action:\", action)"
   ]
  },
  {
   "cell_type": "markdown",
   "id": "f01e9cc5",
   "metadata": {},
   "source": [
    "\n",
    "## 2) Iterative Structures and Environment Scanning Using For Loops\n",
    "\n",
    "In a Pac-Man-inspired environment, the world is represented as a two-dimensional grid, implemented as a list of lists in Python. Each cell in the grid contains one of several possible symbols:\n",
    "\n",
    "| Symbol | Meaning                         |\n",
    "| :----: | :------------------------------ |\n",
    "|  `'#'` | Wall (impassable obstacle).     |\n",
    "|  `'.'` | Food pellet.                    |\n",
    "|  `' '` | Empty space (no food, no wall). |\n",
    "\n",
    "Pac-Man must analyze the environment to count the total number of food pellets available at a given state.\n",
    "This operation models an environment scanning process, in which an agent iteratively inspects sensory input to compute a global summary of relevant features.\n",
    "\n",
    "**Task**\n",
    "\n",
    "Write a Python program that iterates through a two-dimensional maze and counts all occurrences of the symbol `'.'` (representing food).\n",
    "\n",
    "You should use nested `for` loops, in which one for traversing rows and one for traversing cells within each row.\n",
    "\n",
    "**Expected Output**\n",
    "\n",
    "```python\n",
    "Total food: 7\n",
    "```"
   ]
  },
  {
   "cell_type": "code",
   "execution_count": 6,
   "id": "da83fedc",
   "metadata": {},
   "outputs": [
    {
     "name": "stdout",
     "output_type": "stream",
     "text": [
      "Total food: 7\n"
     ]
    }
   ],
   "source": [
    "maze = [\n",
    "    ['#', '.', ' ', ' ', '#'],\n",
    "    [' ', '.', '#', '.', ' '],\n",
    "    [' ', ' ', ' ', '.', '#'],\n",
    "    ['#', '.', '.', ' ', ' '],\n",
    "    ['#', '#', '.', '#', ' '],\n",
    "]\n",
    "\n",
    "# TODO: Count the number of '.' symbols\n",
    "food_count = 0\n",
    "\n",
    "# Implement nested for-loops here\n",
    "for row in maze:\n",
    "    for item in row:\n",
    "        if item == '.':\n",
    "            food_count += 1\n",
    "\n",
    "print(\"Total food:\", food_count)"
   ]
  },
  {
   "cell_type": "code",
   "execution_count": null,
   "id": "484e5283",
   "metadata": {},
   "outputs": [],
   "source": []
  },
  {
   "cell_type": "markdown",
   "id": "54c25207",
   "metadata": {},
   "source": [
    "\n",
    "## 3) Iterative Control Using While Loops for Energy-Constrained Movement\n",
    "\n",
    "Pac-Man traverses a single row of the maze from left to right.\n",
    "\n",
    "Pac-Man begins at index `pos = 0` with an energy budget. Each step to the right consumes a fixed energy amount. The agent continues moving while (i) the next cell is not a wall and (ii) sufficient energy remains.\n",
    "\n",
    "**Task**\n",
    "\n",
    "Implement a loop that advances Pac-Man rightwards by one cell per iteration, printing the position and energy at each step. The loop must stop before entering a wall cell or when energy is depleted (`energy ≤ 0`).\n",
    "\n",
    "**Expected Output**\n",
    "\n",
    "```python\n",
    "Step: pos=1, energy=25\n",
    "Step: pos=2, energy=20\n",
    "```"
   ]
  },
  {
   "cell_type": "code",
   "execution_count": 7,
   "id": "243df190",
   "metadata": {},
   "outputs": [
    {
     "name": "stdout",
     "output_type": "stream",
     "text": [
      "Current position: 1 Energy left: 25\n",
      "Current position: 2 Energy left: 20\n"
     ]
    }
   ],
   "source": [
    "row = [' ', '.', '.', '#', ' ']\n",
    "pos = 0\n",
    "energy = 30          # total energy points\n",
    "cost_per_step = 5    # energy consumed per move\n",
    "\n",
    "# TODO:\n",
    "# Move right while the next cell is not a wall and energy > 0.\n",
    "# After each move: decrement energy, print current pos and energy.\n",
    "\n",
    "# Your code here\n",
    "while pos <len (row)-1 and row[pos+1] != '#' and energy >0:\n",
    "    pos += 1\n",
    "    energy -= cost_per_step\n",
    "    print(\"Current position:\", pos, \"Energy left:\", energy)\n",
    " \n"
   ]
  },
  {
   "cell_type": "markdown",
   "id": "451d0380",
   "metadata": {},
   "source": [
    "\n",
    "## 4) Functional Abstraction for Bounded Movement\n",
    "\n",
    "The Pac-Man world is modeled as a rectangular grid (list of lists of characters), where:\n",
    "- `'#'` denotes a wall (impassable),\n",
    "- `'.'` denotes food,\n",
    "- `' '` denotes empty space.\n",
    "\n",
    "The agent is located at coordinates `(x, y)` (row `x`, column `y`). The objective is to implement `move_pacman(x, y, direction, maze)` such that the move is attempted in one of four directions: `'up'`, `'down'`, `'left'`, `'right'`, and succeeds only if the destination cell is inside bounds and not a wall.\n",
    "\n",
    "**Task**\n",
    "\n",
    "Implement a function with the signature:\n",
    "```python\n",
    "def move_pacman(x, y, direction, maze) -> (int, int, str)\n",
    "```\n",
    "\n",
    "Inputs:\n",
    "- `x, y`: current integer coordinates (0-based indices).\n",
    "- `direction`: one of {'up','down','left','right'}.\n",
    "`maze`: list[list[str]] grid.\n",
    "\n",
    "Output is a triple `(new_x, new_y, message)` where:\n",
    "- `(new_x, new_y)` is the resulting position (equal to `(x, y)` if movement is blocked),\n",
    "- `message` is a brief explanation (e.g., `\"Moved to (r,c)\"`, `\"Blocked by wall\"`, `\"Blocked by border\"`).\n",
    "\n",
    "Constraints:\n",
    "- Do not mutate the maze in this exercise.\n",
    "- Do not use global variables; the function should rely solely on its parameters."
   ]
  },
  {
   "cell_type": "code",
   "execution_count": 8,
   "id": "4a504427",
   "metadata": {},
   "outputs": [
    {
     "name": "stdout",
     "output_type": "stream",
     "text": [
      "(2, 1, 'moved')\n",
      "(1, 0, 'moved')\n"
     ]
    }
   ],
   "source": [
    "def move_pacman(x, y, direction, maze):\n",
    "    \"\"\"\n",
    "    Attempt to move Pac-Man one cell in `direction`.\n",
    "    direction ∈ {'up','down','left','right'}\n",
    "    maze: list of lists with symbols '#', '.', ' '\n",
    "    Returns: (new_x, new_y, message)\n",
    "    \"\"\"\n",
    "    # TODO: compute target; if wall or out-of-bounds -> stay; else move\n",
    "    for row in maze:\n",
    "      for item in row:\n",
    "        if item == '#' or x<0 or y<0 or x>=len(maze) or y>=len(maze):\n",
    "            message ='stay'\n",
    "        elif item == ' ' or item == '.':\n",
    "            message ='moved'\n",
    "            if direction == 'up':\n",
    "                new_x, new_y = x, y-1\n",
    "            if direction == 'down':\n",
    "                new_x, new_y = x, y+1\n",
    "            if direction == 'left':\n",
    "                new_x, new_y = x-1, y\n",
    "            if direction == 'right':\n",
    "                new_x, new_y = x+1, y\n",
    "            return new_x, new_y, message\n",
    "    pass\n",
    "\n",
    "maze = [\n",
    "  ['#',' ',' ','#'],\n",
    "  ['#','.', ' ','#'],\n",
    "  ['#',' ',' ','#'],\n",
    "  ['#','#','#','#']\n",
    "]\n",
    "pos = (1, 1)\n",
    "\n",
    "# Example manual tests (after you implement):\n",
    "print(move_pacman(1,1, 'right', maze))\n",
    "print(move_pacman(1,1, 'up', maze))"
   ]
  },
  {
   "cell_type": "markdown",
   "id": "2bb89326",
   "metadata": {},
   "source": [
    "\n",
    "## 5) Function/Conditional Synthesis for Display Mapping\n",
    "\n",
    "In grid-based environments (e.g., Pac-Man), internal cell values often differ from what we show to users. For example, the program may internally store `'#'` (wall), `'.'` (food), and `' '` (empty) as canonical codes. A renderer then converts these codes to symbols for display.\n",
    "A clean separation between representation (internal codes) and presentation (on-screen symbols) promotes modularity and clarity.\n",
    "\n",
    "**Task**\n",
    "\n",
    "Implement a function:\n",
    "```python\n",
    "def cell_symbol(cell: str) -> str\n",
    "```\n",
    "\n",
    "that returns a single-character display symbol according to the following mapping:\n",
    "\n",
    "| Internal code | Meaning             | Display symbol |\n",
    "| ------------- | ------------------- | -------------- |\n",
    "| `'#'`         | Wall                | `'#'`          |\n",
    "| `'.'`         | Food                | `'.'`          |\n",
    "| `' '`         | Empty               | `' '` (space)  |\n",
    "| *other*       | Unknown/unsupported | `'?'`          |\n",
    "\n",
    "Constraints:\n",
    "- The function must not mutate any external state.\n",
    "- The function must return a string of length 1.\n",
    "- Unknown inputs must be handled gracefully by returning `'?'`."
   ]
  },
  {
   "cell_type": "code",
   "execution_count": 9,
   "id": "b8db9469",
   "metadata": {},
   "outputs": [
    {
     "name": "stdout",
     "output_type": "stream",
     "text": [
      ".\n",
      "?\n"
     ]
    }
   ],
   "source": [
    "def cell_symbol(cell):\n",
    "    \"\"\"\n",
    "    Map an internal cell code to a one-character display symbol.\n",
    "\n",
    "    Expected inputs: '#', '.', ' ' (space).\n",
    "    Returns: '#', '.', ' ', or '?' for unknown codes.\n",
    "    \"\"\"\n",
    "    # TODO: implement conditional mapping\n",
    "    if cell == '#':\n",
    "        return '#'\n",
    "    elif cell == '.':\n",
    "        return '.'\n",
    "    elif cell == ' ':\n",
    "        return ' '\n",
    "    else:\n",
    "        return '?'\n",
    "    # return one of: '#', '.', ' ', '?'\n",
    "    pass\n",
    "\n",
    "print(cell_symbol('.'))  # expected: '.'\n",
    "print(cell_symbol('x'))  # expected: '?'"
   ]
  },
  {
   "cell_type": "markdown",
   "id": "f9de102f",
   "metadata": {},
   "source": [
    "\n",
    "## 6) Perception Abstraction via Functions\n",
    "\n",
    "The world is a rectangular grid (list of lists of characters):\n",
    "- `'#'` denotes a wall (impassable),\n",
    "- `'.'` denotes food,\n",
    "- `' '` denotes empty space.\n",
    "\n",
    "The agent stands at `(r, c)` (row, column). The perception function must report immediate neighbors in the four directions using a consistent interface. This mirrors the local sensing used by reactive agents and serves as the input to the decision rules you implemented earlier.\n",
    "\n",
    "Design choice (policy for edges): When a neighbor lies outside the grid, we will treat it as a wall '#'. This simplifies client code and prevents index errors.\n",
    "\n",
    "**Task**\n",
    "\n",
    "Write a function:\n",
    "```python\n",
    "def perceive(maze, pos):\n",
    "    \"\"\"\n",
    "    maze: list[list[str]] — rectangular grid using '#', '.', ' '\n",
    "    pos:  tuple[int, int] — (row, col)\n",
    "    returns: dict[str, str] mapping each of {'up','down','left','right'} to the\n",
    "             observed cell symbol in that direction; out-of-bounds → '#'\n",
    "    \"\"\"\n",
    "```"
   ]
  },
  {
   "cell_type": "code",
   "execution_count": 10,
   "id": "593446f7",
   "metadata": {},
   "outputs": [
    {
     "name": "stdout",
     "output_type": "stream",
     "text": [
      "{'up': ' ', 'down': ' ', 'left': '#', 'right': ' '}\n"
     ]
    }
   ],
   "source": [
    "def perceive(maze, pos):\n",
    "    \"\"\"\n",
    "    Return a dictionary with the contents of adjacent cells:\n",
    "    {'up': ch, 'down': ch, 'left': ch, 'right': ch}\n",
    "    Out-of-bounds neighbors are returned as '#'.\n",
    "    \"\"\"\n",
    "    r, c = pos\n",
    "    def get(r,c):\n",
    "        if r<0 or c<0 or r>=len(maze) or c>=len(maze):\n",
    "            return '#'\n",
    "        return maze[r][c]\n",
    "\n",
    "    return {\n",
    "        'up': get(r-1, c),\n",
    "        'down': get(r+1, c),\n",
    "        'left': get(r, c-1),\n",
    "        'right': get(r, c+1)\n",
    "    }\n",
    "    pass\n",
    "\n",
    "\n",
    "\n",
    "maze = [\n",
    "  ['#',' ',' ','#'],\n",
    "  ['#','.', ' ','#'],\n",
    "  ['#',' ',' ','#'],\n",
    "  ['#','#','#','#']\n",
    "]\n",
    "print(perceive(maze, (1, 1)))  # expected: {'up': ' ', 'down': ' ', 'left': '#', 'right': ' '}"
   ]
  },
  {
   "cell_type": "markdown",
   "id": "d606e021",
   "metadata": {},
   "source": [
    "\n",
    "## 7) Rendering a Grid World with Lists\n",
    "\n",
    "The agent’s position is the tuple `(r, c)` (row, column). The renderer must print each row of the maze, placing a `'P'` at the agent’s location without mutating the maze itself.\n",
    "\n",
    "Rendering is a crucial step in simulation work: it provides observability for debugging and experimentation without requiring graphics libraries.\n",
    "\n",
    "**Task**\n",
    "\n",
    "Implement a function:\n",
    "```python\n",
    "def render(maze, P) -> None\n",
    "```\n",
    "\n",
    "that prints a textual view of `maze`, showing `'P'` at coordinate `P` and the raw cell symbols elsewhere. The function must not change the contents of `maze`; it should only read and print.\n",
    "\n",
    "**Expected Output**\n",
    "```python\n",
    "####\n",
    "#P #\n",
    "# .#\n",
    "####\n",
    "```"
   ]
  },
  {
   "cell_type": "code",
   "execution_count": 4,
   "id": "79ca918e",
   "metadata": {},
   "outputs": [
    {
     "name": "stdout",
     "output_type": "stream",
     "text": [
      "#####P ## .#####"
     ]
    }
   ],
   "source": [
    "def render(maze, P):\n",
    "    \"\"\"\n",
    "    Print a text visualization of the grid.\n",
    "    `maze`: list[list[str]] using '#', '.', ' '\n",
    "    `P`:    (row, col) tuple for agent position\n",
    "    The function must not mutate `maze`.\n",
    "    \"\"\"\n",
    "    # TODO: print each row; for cell (r,c), print 'P' if (r,c)==P else maze[r][c]\n",
    "    r,c = P\n",
    "    for row in maze:\n",
    "      for item in row:\n",
    "        if row.index(item) == len(row)-1:\n",
    "            print('\\n')\n",
    "        if (r,c) == (maze.index(row), row.index(item)):\n",
    "            print('P', end='')\n",
    "        else:\n",
    "            print(item, end='')\n",
    "        \n",
    "    # build each line as a string and then print it\n",
    "    pass\n",
    "\n",
    "\n",
    "# Example grid and probe\n",
    "maze = [\n",
    "  ['#','#','#','#'],\n",
    "  ['#','.', ' ','#'],\n",
    "  ['#',' ', '.','#'],\n",
    "  ['#','#','#','#']\n",
    "]\n",
    "render(maze, (1, 1))   # agent at row 1, col 1"
   ]
  },
  {
   "cell_type": "markdown",
   "id": "0fdff37d",
   "metadata": {},
   "source": [
    "\n",
    "## 8) Path Recording with Lists of Tuples\n",
    "\n",
    "We model the agent’s position as a tuple `(r, c)` (row, column). A move sequence describes intended directions (e.g., `['right','right','down','left']`). We will:\n",
    "- Define a pure step function `apply_move(pos, direction)` that returns a new position without side effects.\n",
    "- Iterate the given sequence of directions, updating the current position each time.\n",
    "- Append each resulting position to a path list, thereby capturing the full path.\n",
    "\n",
    "*(In this exercise, we ignore walls and borders to focus on data handling.)*\n",
    "\n",
    "**Task**\n",
    "\n",
    "Write code that:\n",
    "- Implements `apply_move(pos, direction)` for the four cardinal directions.\n",
    "- Iterates over a list of moves, producing a list `path` of positions after each move.\n",
    "- Computes the set of unique positions visited."
   ]
  },
  {
   "cell_type": "code",
   "execution_count": 5,
   "id": "5fdadbe4",
   "metadata": {},
   "outputs": [
    {
     "name": "stdout",
     "output_type": "stream",
     "text": [
      "Final position: (0, 1)\n",
      "Path taken: [(1, 1), (1, 2), (1, 3), (2, 3), (2, 2), (2, 1), (1, 1), (0, 1)]\n",
      "Unique positions visited: 7\n"
     ]
    }
   ],
   "source": [
    "def apply_move(pos, direction):\n",
    "    \"\"\"\n",
    "    pos: (row, col) tuple\n",
    "    direction ∈ {'up','down','left','right'}\n",
    "    returns a NEW (row, col) tuple after one step\n",
    "    \"\"\"\n",
    "    r, c = pos\n",
    "    if direction == 'up':    return (r - 1, c)\n",
    "    if direction == 'down':  return (r + 1, c)\n",
    "    if direction == 'left':  return (r, c - 1)\n",
    "    if direction == 'right': return (r, c + 1)\n",
    "    raise ValueError(f\"Unknown direction: {direction!r}\")\n",
    "\n",
    "\n",
    "# Simulation inputs\n",
    "start = (1, 1)\n",
    "moves = ['right', 'right', 'down', 'left', 'left', 'up', 'up']\n",
    "\n",
    "# TODO:\n",
    "# 1) Iterate through moves, updating `pos` each time using apply_move\n",
    "# 2) Append EACH resulting position to a `path` list\n",
    "# 3) Compute `visited = set(path)` for unique positions\n",
    "# 4) Print the final position, the full path, and the number of unique positions\n",
    "\n",
    "# Your code here\n",
    "pos= start\n",
    "path = [pos]\n",
    "for move in moves:\n",
    "    pos = apply_move(pos, move)\n",
    "    path.append(pos)\n",
    "visited = set(path)\n",
    "print(\"Final position:\", pos)\n",
    "print(\"Path taken:\", path)\n",
    "print(\"Unique positions visited:\", len(visited))"
   ]
  },
  {
   "cell_type": "markdown",
   "id": "7a175713",
   "metadata": {},
   "source": [
    "\n",
    "## 9) Tuples: Immutability & Tuple Assignment\n",
    "\n",
    "Show why tuples are immutable and use tuple unpacking to swap `(x,y)`.\n"
   ]
  },
  {
   "cell_type": "code",
   "execution_count": 9,
   "id": "02b8253c",
   "metadata": {},
   "outputs": [
    {
     "name": "stdout",
     "output_type": "stream",
     "text": [
      "Error: 'tuple' object does not support item assignment\n",
      "Swapped position: (3, 2)\n"
     ]
    }
   ],
   "source": [
    "pos = (2, 3)\n",
    "# TODO: try to assign pos[0] = 5 and catch the error\n",
    "# then swap x,y using tuple assignment\n",
    "\n",
    "# your code here\n",
    "try:\n",
    "    pos[0] = 5\n",
    "    pass\n",
    "except TypeError as e:\n",
    "    print(\"Error:\", e)\n",
    "x, y = pos\n",
    "x, y = y, x\n",
    "pos = (x, y)\n",
    "print(\"Swapped position:\", pos)"
   ]
  },
  {
   "cell_type": "markdown",
   "id": "72bd2141",
   "metadata": {},
   "source": [
    "\n",
    "## 10) Dictionaries: Scoreboard Tracker\n",
    "\n",
    "Multiple players (e.g., “Alice”, “Bob”, “Carol”) receive points based on events:\n",
    "- coin → +10\n",
    "- fruit → +50\n",
    "- ghost → −50\n",
    "\n",
    "Events are provided as a list of `(player, event)` pairs. Your task is to maintain a scoreboard and then output a ranking from highest to lowest score.\n",
    "\n",
    "**Task**\n",
    "\n",
    "Implement an event-processing pipeline that:\n",
    "- Initializes a `scores` dictionary for players.\n",
    "- Applies a sequence of events using a points lookup dictionary and safe lookups (`dict.get`).\n",
    "- Produces a sorted ranking (descending by score)."
   ]
  },
  {
   "cell_type": "code",
   "execution_count": 1,
   "id": "9926a409",
   "metadata": {},
   "outputs": [
    {
     "name": "stdout",
     "output_type": "stream",
     "text": [
      "Current scores: {'Alice': 10, 'Bob': 0, 'Carol': 0}\n",
      "Current scores: {'Alice': 10, 'Bob': 50, 'Carol': 0}\n",
      "Current scores: {'Alice': 20, 'Bob': 50, 'Carol': 0}\n",
      "Current scores: {'Alice': 20, 'Bob': 50, 'Carol': -50}\n",
      "Current scores: {'Alice': 20, 'Bob': 60, 'Carol': -50}\n"
     ]
    }
   ],
   "source": [
    "scores = {'Alice': 0, 'Bob': 0, 'Carol': 0}\n",
    "events = [\n",
    "  ('Alice','coin'),\n",
    "  ('Bob','fruit'),\n",
    "  ('Alice','coin'),\n",
    "  ('Carol','ghost'),\n",
    "  ('Bob','coin')\n",
    "]\n",
    "\n",
    "points = {'coin': 10, 'fruit': 50, 'ghost': -50}\n",
    "\n",
    "# TODO:\n",
    "# 1) For each (name, ev) in events, update scores[name] by points[ev]\n",
    "#    Use .get(ev, 0) to unknown events.\n",
    "# 2) Build a ranking list of (name, score) pairs, sorted by score descending.\n",
    "# 3) Print the final scores and the ranking.\n",
    "\n",
    "# Your code here\n",
    "for name, ev in events:\n",
    "    scores[name] += points.get(ev, 0)\n",
    "    ranking = sorted(scores.items(), key=lambda item: item[1], reverse=True)\n",
    "    print(f\"Current scores: {scores}\")"
   ]
  },
  {
   "cell_type": "markdown",
   "id": "5f421047",
   "metadata": {},
   "source": [
    "\n",
    "## 11) Nested Dictionaries: World State\n",
    "\n",
    "A grid world can be modeled by mapping coordinate tuples `(r, c)` to cell records (nested dicts). Each cell record contains semantic fields, e.g.:\n",
    "- `'type'` ∈ `{'wall','coin','ghost','empty'}`\n",
    "- `'visited'` ∈ `{True, False}`\n",
    "\n",
    "**Task**\n",
    "\n",
    "Construct a world-state dictionary and perform typical queries/updates:\n",
    "- Print all coordinates whose `'type'` is `'coin'`.\n",
    "- Mark a specific coordinate as visited.\n",
    "- Count how many cells have `'type' == 'ghost'`."
   ]
  },
  {
   "cell_type": "code",
   "execution_count": null,
   "id": "b52f0353",
   "metadata": {},
   "outputs": [
    {
     "name": "stdout",
     "output_type": "stream",
     "text": [
      "Coin coordinates: [(1, 2), (2, 2)]\n",
      "Updated world: {(1, 1): {'type': 'empty', 'visited': True}, (1, 2): {'type': 'coin', 'visited': True}, (1, 3): {'type': 'ghost', 'visited': False}, (2, 2): {'type': 'coin', 'visited': False}}\n",
      "Number of ghost cells: 1\n"
     ]
    }
   ],
   "source": [
    "world = {\n",
    "  (1,1): {'type':'empty', 'visited': True},\n",
    "  (1,2): {'type':'coin',  'visited': False},\n",
    "  (1,3): {'type':'ghost', 'visited': False},\n",
    "  (2,2): {'type':'coin',  'visited': False},\n",
    "}\n",
    "\n",
    "# TODO:\n",
    "# 1) Print all coin coordinates\n",
    "# 2) Mark (1,2) as visited\n",
    "# 3) Count ghost cells\n",
    "\n",
    "# Your code here\n",
    "coin_coordinates= [pos for pos, val in world.items() if val['type']=='coin']\n",
    "print(\"Coin coordinates:\", coin_coordinates)\n",
    "world[(1,2)]['visited']=True\n",
    "print(\"Updated world:\", world)\n",
    "ghost_visible=sum(1 for val in world.values() if val['type']=='ghost')\n",
    "print(\"Number of ghost cells:\", ghost_visible)"
   ]
  }
 ],
 "metadata": {
  "kernelspec": {
   "display_name": "data-privacy-env",
   "language": "python",
   "name": "python3"
  },
  "language_info": {
   "codemirror_mode": {
    "name": "ipython",
    "version": 3
   },
   "file_extension": ".py",
   "mimetype": "text/x-python",
   "name": "python",
   "nbconvert_exporter": "python",
   "pygments_lexer": "ipython3",
   "version": "3.12.11"
  }
 },
 "nbformat": 4,
 "nbformat_minor": 5
}
